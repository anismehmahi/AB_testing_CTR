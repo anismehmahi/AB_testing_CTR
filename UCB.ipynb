{
 "cells": [
  {
   "cell_type": "code",
   "execution_count": 1,
   "id": "adeee805",
   "metadata": {
    "execution": {
     "iopub.execute_input": "2023-06-24T13:12:54.882128Z",
     "iopub.status.busy": "2023-06-24T13:12:54.881695Z",
     "iopub.status.idle": "2023-06-24T13:12:56.630188Z",
     "shell.execute_reply": "2023-06-24T13:12:56.629095Z"
    },
    "papermill": {
     "duration": 1.756628,
     "end_time": "2023-06-24T13:12:56.633217",
     "exception": false,
     "start_time": "2023-06-24T13:12:54.876589",
     "status": "completed"
    },
    "tags": []
   },
   "outputs": [],
   "source": [
    "import matplotlib.pyplot as plt\n",
    "import numpy as np\n",
    "import seaborn as sns\n",
    "from scipy.stats import bernoulli"
   ]
  },
  {
   "cell_type": "markdown",
   "id": "68462ae5",
   "metadata": {
    "papermill": {
     "duration": 0.002446,
     "end_time": "2023-06-24T13:12:56.638726",
     "exception": false,
     "start_time": "2023-06-24T13:12:56.636280",
     "status": "completed"
    },
    "tags": []
   },
   "source": [
    "# The Upper Confidence Bound (UCB)"
   ]
  },
  {
   "cell_type": "code",
   "execution_count": 2,
   "id": "48bf8fd8",
   "metadata": {
    "execution": {
     "iopub.execute_input": "2023-06-24T13:12:56.646560Z",
     "iopub.status.busy": "2023-06-24T13:12:56.646137Z",
     "iopub.status.idle": "2023-06-24T13:12:56.654223Z",
     "shell.execute_reply": "2023-06-24T13:12:56.653056Z"
    },
    "papermill": {
     "duration": 0.015277,
     "end_time": "2023-06-24T13:12:56.656688",
     "exception": false,
     "start_time": "2023-06-24T13:12:56.641411",
     "status": "completed"
    },
    "tags": []
   },
   "outputs": [],
   "source": [
    "class RestaurantThompsonSampler():\n",
    "    def __init__(self, p):\n",
    "        self.p = p\n",
    "        self.estimated_p = 0\n",
    "        self.N = 0\n",
    "        \n",
    "    def ucb(self,mean, n, nj):\n",
    "        return mean + np.sqrt(2*np.log(n) / nj)\n",
    "    \n",
    "    def get_reward_from_true_distribution(self):\n",
    "        s = bernoulli.rvs(self.p, size=1)[0]\n",
    "        return s\n",
    "    \n",
    "    def update_current_distribution(self,x):\n",
    "        self.N += 1.\n",
    "        self.estimated_p = ((self.N - 1)*self.estimated_p + x) / self.N\n"
   ]
  },
  {
   "cell_type": "code",
   "execution_count": 3,
   "id": "b658fa85",
   "metadata": {
    "execution": {
     "iopub.execute_input": "2023-06-24T13:12:56.664041Z",
     "iopub.status.busy": "2023-06-24T13:12:56.663624Z",
     "iopub.status.idle": "2023-06-24T13:12:56.671433Z",
     "shell.execute_reply": "2023-06-24T13:12:56.670173Z"
    },
    "papermill": {
     "duration": 0.014489,
     "end_time": "2023-06-24T13:12:56.673949",
     "exception": false,
     "start_time": "2023-06-24T13:12:56.659460",
     "status": "completed"
    },
    "tags": []
   },
   "outputs": [],
   "source": [
    "def draw_distributions(R,i):\n",
    "    for r in R:\n",
    "        samps = bernoulli.rvs(r.estimated_p, size=100)\n",
    "        sns.kdeplot(samps, fill=True)\n",
    "    plt.title('Iteration %s'%(i+1), fontsize=20)\n",
    "    plt.legend(['mu=%s'%(r.p) for r in R], fontsize=16)\n",
    "    plt.xlim(-3,3)\n",
    "    plt.xlabel('Average Satisfacton', fontsize=20)\n",
    "    plt.ylabel('Density', fontsize=20)\n",
    "    \n",
    "    plt.show()"
   ]
  },
  {
   "cell_type": "code",
   "execution_count": 4,
   "id": "a97a217f",
   "metadata": {
    "execution": {
     "iopub.execute_input": "2023-06-24T13:12:56.681067Z",
     "iopub.status.busy": "2023-06-24T13:12:56.680643Z",
     "iopub.status.idle": "2023-06-24T13:12:56.797912Z",
     "shell.execute_reply": "2023-06-24T13:12:56.795787Z"
    },
    "papermill": {
     "duration": 0.123995,
     "end_time": "2023-06-24T13:12:56.800707",
     "exception": false,
     "start_time": "2023-06-24T13:12:56.676712",
     "status": "completed"
    },
    "tags": []
   },
   "outputs": [
    {
     "name": "stdout",
     "output_type": "stream",
     "text": [
      "Real P =  0.2 Estimated P =  0.21428571428571427\n",
      "Real P =  0.4 Estimated P =  0.36956521739130443\n",
      "Real P =  0.6000000000000001 Estimated P =  0.5762711864406777\n",
      "Real P =  0.8 Estimated P =  0.7938271604938268\n"
     ]
    }
   ],
   "source": [
    "num_restaurants = 4\n",
    "spacing = 1\n",
    "R = [RestaurantThompsonSampler(i*0.2) for i in range(1, num_restaurants+1)]\n",
    "\n",
    "# Experiment once (to not nj==0) \n",
    "for r in R :\n",
    "    s = r.get_reward_from_true_distribution()\n",
    "    r.update_current_distribution(s)\n",
    "\n",
    "for i in range(2,1000):    \n",
    "    #get a sample of the estimated mean (estimated p)\n",
    "    post_samps = [r.ucb(r.estimated_p,i,r.N) for r in R]\n",
    "    \n",
    "    #index of distribution with highest ucb\n",
    "    chosen_idx = post_samps.index(max(post_samps))\n",
    "    \n",
    "    #get a new sample from that distribution\n",
    "    s = R[chosen_idx].get_reward_from_true_distribution()\n",
    "    \n",
    "    #update that distributions posterior\n",
    "    R[chosen_idx].update_current_distribution(s)\n",
    "    \n",
    "    \n",
    "for r in R :\n",
    "    print('Real P = ', r.p, 'Estimated P = ',r.estimated_p)"
   ]
  }
 ],
 "metadata": {
  "kernelspec": {
   "display_name": "Python 3",
   "language": "python",
   "name": "python3"
  },
  "language_info": {
   "codemirror_mode": {
    "name": "ipython",
    "version": 3
   },
   "file_extension": ".py",
   "mimetype": "text/x-python",
   "name": "python",
   "nbconvert_exporter": "python",
   "pygments_lexer": "ipython3",
   "version": "3.10.10"
  },
  "papermill": {
   "default_parameters": {},
   "duration": 18.837808,
   "end_time": "2023-06-24T13:12:59.672688",
   "environment_variables": {},
   "exception": null,
   "input_path": "__notebook__.ipynb",
   "output_path": "__notebook__.ipynb",
   "parameters": {},
   "start_time": "2023-06-24T13:12:40.834880",
   "version": "2.4.0"
  }
 },
 "nbformat": 4,
 "nbformat_minor": 5
}
