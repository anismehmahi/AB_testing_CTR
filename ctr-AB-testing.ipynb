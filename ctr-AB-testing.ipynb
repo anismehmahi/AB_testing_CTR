{
 "cells": [
  {
   "cell_type": "code",
   "execution_count": 1,
   "id": "d38d76b2",
   "metadata": {
    "execution": {
     "iopub.execute_input": "2023-06-23T13:26:09.363787Z",
     "iopub.status.busy": "2023-06-23T13:26:09.363409Z",
     "iopub.status.idle": "2023-06-23T13:26:10.400957Z",
     "shell.execute_reply": "2023-06-23T13:26:10.400046Z"
    },
    "papermill": {
     "duration": 1.045602,
     "end_time": "2023-06-23T13:26:10.403397",
     "exception": false,
     "start_time": "2023-06-23T13:26:09.357795",
     "status": "completed"
    },
    "tags": []
   },
   "outputs": [],
   "source": [
    "import pandas as pd \n",
    "from statsmodels.stats.weightstats import ztest\n",
    "import numpy as np\n"
   ]
  },
  {
   "cell_type": "code",
   "execution_count": 2,
   "id": "51ff2b30",
   "metadata": {
    "execution": {
     "iopub.execute_input": "2023-06-23T13:26:10.411675Z",
     "iopub.status.busy": "2023-06-23T13:26:10.411315Z",
     "iopub.status.idle": "2023-06-23T13:26:10.433576Z",
     "shell.execute_reply": "2023-06-23T13:26:10.432177Z"
    },
    "papermill": {
     "duration": 0.029813,
     "end_time": "2023-06-23T13:26:10.436862",
     "exception": false,
     "start_time": "2023-06-23T13:26:10.407049",
     "status": "completed"
    },
    "tags": []
   },
   "outputs": [],
   "source": [
    "data = pd.read_csv(\"/kaggle/input/ads-clicks/advertisement_clicks.csv\")"
   ]
  },
  {
   "cell_type": "code",
   "execution_count": 3,
   "id": "604d790d",
   "metadata": {
    "execution": {
     "iopub.execute_input": "2023-06-23T13:26:10.447715Z",
     "iopub.status.busy": "2023-06-23T13:26:10.447109Z",
     "iopub.status.idle": "2023-06-23T13:26:10.478706Z",
     "shell.execute_reply": "2023-06-23T13:26:10.477760Z"
    },
    "papermill": {
     "duration": 0.041295,
     "end_time": "2023-06-23T13:26:10.482156",
     "exception": false,
     "start_time": "2023-06-23T13:26:10.440861",
     "status": "completed"
    },
    "tags": []
   },
   "outputs": [
    {
     "data": {
      "text/html": [
       "<div>\n",
       "<style scoped>\n",
       "    .dataframe tbody tr th:only-of-type {\n",
       "        vertical-align: middle;\n",
       "    }\n",
       "\n",
       "    .dataframe tbody tr th {\n",
       "        vertical-align: top;\n",
       "    }\n",
       "\n",
       "    .dataframe thead th {\n",
       "        text-align: right;\n",
       "    }\n",
       "</style>\n",
       "<table border=\"1\" class=\"dataframe\">\n",
       "  <thead>\n",
       "    <tr style=\"text-align: right;\">\n",
       "      <th></th>\n",
       "      <th>advertisement_id</th>\n",
       "      <th>action</th>\n",
       "    </tr>\n",
       "  </thead>\n",
       "  <tbody>\n",
       "    <tr>\n",
       "      <th>0</th>\n",
       "      <td>B</td>\n",
       "      <td>1</td>\n",
       "    </tr>\n",
       "    <tr>\n",
       "      <th>1</th>\n",
       "      <td>B</td>\n",
       "      <td>1</td>\n",
       "    </tr>\n",
       "    <tr>\n",
       "      <th>2</th>\n",
       "      <td>A</td>\n",
       "      <td>0</td>\n",
       "    </tr>\n",
       "    <tr>\n",
       "      <th>3</th>\n",
       "      <td>B</td>\n",
       "      <td>0</td>\n",
       "    </tr>\n",
       "    <tr>\n",
       "      <th>4</th>\n",
       "      <td>A</td>\n",
       "      <td>1</td>\n",
       "    </tr>\n",
       "    <tr>\n",
       "      <th>...</th>\n",
       "      <td>...</td>\n",
       "      <td>...</td>\n",
       "    </tr>\n",
       "    <tr>\n",
       "      <th>1995</th>\n",
       "      <td>A</td>\n",
       "      <td>0</td>\n",
       "    </tr>\n",
       "    <tr>\n",
       "      <th>1996</th>\n",
       "      <td>A</td>\n",
       "      <td>0</td>\n",
       "    </tr>\n",
       "    <tr>\n",
       "      <th>1997</th>\n",
       "      <td>A</td>\n",
       "      <td>0</td>\n",
       "    </tr>\n",
       "    <tr>\n",
       "      <th>1998</th>\n",
       "      <td>A</td>\n",
       "      <td>1</td>\n",
       "    </tr>\n",
       "    <tr>\n",
       "      <th>1999</th>\n",
       "      <td>A</td>\n",
       "      <td>0</td>\n",
       "    </tr>\n",
       "  </tbody>\n",
       "</table>\n",
       "<p>2000 rows × 2 columns</p>\n",
       "</div>"
      ],
      "text/plain": [
       "     advertisement_id  action\n",
       "0                   B       1\n",
       "1                   B       1\n",
       "2                   A       0\n",
       "3                   B       0\n",
       "4                   A       1\n",
       "...               ...     ...\n",
       "1995                A       0\n",
       "1996                A       0\n",
       "1997                A       0\n",
       "1998                A       1\n",
       "1999                A       0\n",
       "\n",
       "[2000 rows x 2 columns]"
      ]
     },
     "execution_count": 3,
     "metadata": {},
     "output_type": "execute_result"
    }
   ],
   "source": [
    "data"
   ]
  },
  {
   "cell_type": "code",
   "execution_count": 4,
   "id": "f8b3cc66",
   "metadata": {
    "execution": {
     "iopub.execute_input": "2023-06-23T13:26:10.493516Z",
     "iopub.status.busy": "2023-06-23T13:26:10.492708Z",
     "iopub.status.idle": "2023-06-23T13:26:10.508655Z",
     "shell.execute_reply": "2023-06-23T13:26:10.507712Z"
    },
    "papermill": {
     "duration": 0.024058,
     "end_time": "2023-06-23T13:26:10.511146",
     "exception": false,
     "start_time": "2023-06-23T13:26:10.487088",
     "status": "completed"
    },
    "tags": []
   },
   "outputs": [
    {
     "data": {
      "text/plain": [
       "(1000, 1000)"
      ]
     },
     "execution_count": 4,
     "metadata": {},
     "output_type": "execute_result"
    }
   ],
   "source": [
    "A = data[data[\"advertisement_id\"]=='A']['action'].to_numpy()\n",
    "B = data[data[\"advertisement_id\"]=='B']['action'].to_numpy()\n",
    "len(A), len(B)"
   ]
  },
  {
   "cell_type": "code",
   "execution_count": 5,
   "id": "e4fb5be6",
   "metadata": {
    "execution": {
     "iopub.execute_input": "2023-06-23T13:26:10.522403Z",
     "iopub.status.busy": "2023-06-23T13:26:10.521787Z",
     "iopub.status.idle": "2023-06-23T13:26:10.527925Z",
     "shell.execute_reply": "2023-06-23T13:26:10.527169Z"
    },
    "papermill": {
     "duration": 0.014364,
     "end_time": "2023-06-23T13:26:10.530053",
     "exception": false,
     "start_time": "2023-06-23T13:26:10.515689",
     "status": "completed"
    },
    "tags": []
   },
   "outputs": [],
   "source": [
    "# Two-sample & 2-sided test \n",
    "# H0 (muA==muB) H1(muA!=muB)\n",
    "z1,p1 = ztest(A,B)"
   ]
  },
  {
   "cell_type": "code",
   "execution_count": 6,
   "id": "490c6397",
   "metadata": {
    "execution": {
     "iopub.execute_input": "2023-06-23T13:26:10.540625Z",
     "iopub.status.busy": "2023-06-23T13:26:10.539882Z",
     "iopub.status.idle": "2023-06-23T13:26:10.548098Z",
     "shell.execute_reply": "2023-06-23T13:26:10.546505Z"
    },
    "papermill": {
     "duration": 0.015593,
     "end_time": "2023-06-23T13:26:10.550181",
     "exception": false,
     "start_time": "2023-06-23T13:26:10.534588",
     "status": "completed"
    },
    "tags": []
   },
   "outputs": [
    {
     "data": {
      "text/plain": [
       "True"
      ]
     },
     "execution_count": 6,
     "metadata": {},
     "output_type": "execute_result"
    }
   ],
   "source": [
    "p1<0.05"
   ]
  },
  {
   "cell_type": "markdown",
   "id": "f393530f",
   "metadata": {
    "papermill": {
     "duration": 0.003582,
     "end_time": "2023-06-23T13:26:10.557551",
     "exception": false,
     "start_time": "2023-06-23T13:26:10.553969",
     "status": "completed"
    },
    "tags": []
   },
   "source": [
    "### Because p<5% than we reject H0 (mu_A == mu_B) and we Accept H1 (strategy A is different than B). The question now is which one is better ?"
   ]
  },
  {
   "cell_type": "code",
   "execution_count": 7,
   "id": "232f860d",
   "metadata": {
    "execution": {
     "iopub.execute_input": "2023-06-23T13:26:10.568213Z",
     "iopub.status.busy": "2023-06-23T13:26:10.567290Z",
     "iopub.status.idle": "2023-06-23T13:26:10.573646Z",
     "shell.execute_reply": "2023-06-23T13:26:10.572667Z"
    },
    "papermill": {
     "duration": 0.014574,
     "end_time": "2023-06-23T13:26:10.575761",
     "exception": false,
     "start_time": "2023-06-23T13:26:10.561187",
     "status": "completed"
    },
    "tags": []
   },
   "outputs": [
    {
     "data": {
      "text/plain": [
       "(0.304, 0.372)"
      ]
     },
     "execution_count": 7,
     "metadata": {},
     "output_type": "execute_result"
    }
   ],
   "source": [
    "A.mean() , B.mean()"
   ]
  },
  {
   "cell_type": "code",
   "execution_count": 8,
   "id": "660242b5",
   "metadata": {
    "execution": {
     "iopub.execute_input": "2023-06-23T13:26:10.584697Z",
     "iopub.status.busy": "2023-06-23T13:26:10.584340Z",
     "iopub.status.idle": "2023-06-23T13:26:10.591367Z",
     "shell.execute_reply": "2023-06-23T13:26:10.590403Z"
    },
    "papermill": {
     "duration": 0.013755,
     "end_time": "2023-06-23T13:26:10.593298",
     "exception": false,
     "start_time": "2023-06-23T13:26:10.579543",
     "status": "completed"
    },
    "tags": []
   },
   "outputs": [
    {
     "data": {
      "text/plain": [
       "(-3.2211732138019786, 0.0006383348150764772)"
      ]
     },
     "execution_count": 8,
     "metadata": {},
     "output_type": "execute_result"
    }
   ],
   "source": [
    "# H0 : muA > muB\n",
    "# H1 : muA <= muB\n",
    "z2,p2 = ztest(A,B,alternative = \"smaller\")\n",
    "z2, p2"
   ]
  },
  {
   "cell_type": "code",
   "execution_count": 9,
   "id": "bbb62a9b",
   "metadata": {
    "execution": {
     "iopub.execute_input": "2023-06-23T13:26:10.602631Z",
     "iopub.status.busy": "2023-06-23T13:26:10.602078Z",
     "iopub.status.idle": "2023-06-23T13:26:10.607944Z",
     "shell.execute_reply": "2023-06-23T13:26:10.607042Z"
    },
    "papermill": {
     "duration": 0.012939,
     "end_time": "2023-06-23T13:26:10.610097",
     "exception": false,
     "start_time": "2023-06-23T13:26:10.597158",
     "status": "completed"
    },
    "tags": []
   },
   "outputs": [
    {
     "data": {
      "text/plain": [
       "True"
      ]
     },
     "execution_count": 9,
     "metadata": {},
     "output_type": "execute_result"
    }
   ],
   "source": [
    "p2<0.05"
   ]
  },
  {
   "cell_type": "markdown",
   "id": "1e42039d",
   "metadata": {
    "papermill": {
     "duration": 0.003718,
     "end_time": "2023-06-23T13:26:10.617942",
     "exception": false,
     "start_time": "2023-06-23T13:26:10.614224",
     "status": "completed"
    },
    "tags": []
   },
   "source": [
    "### Because p2<5% than we reject H0 (mu_A > mu_B) and we Accept H1 (muA <= muB) which means (strategy B is better than A). "
   ]
  },
  {
   "cell_type": "code",
   "execution_count": null,
   "id": "4bfc08b9",
   "metadata": {
    "papermill": {
     "duration": 0.003589,
     "end_time": "2023-06-23T13:26:10.625367",
     "exception": false,
     "start_time": "2023-06-23T13:26:10.621778",
     "status": "completed"
    },
    "tags": []
   },
   "outputs": [],
   "source": []
  },
  {
   "cell_type": "code",
   "execution_count": null,
   "id": "e666ebb3",
   "metadata": {
    "papermill": {
     "duration": 0.003603,
     "end_time": "2023-06-23T13:26:10.632817",
     "exception": false,
     "start_time": "2023-06-23T13:26:10.629214",
     "status": "completed"
    },
    "tags": []
   },
   "outputs": [],
   "source": []
  }
 ],
 "metadata": {
  "kernelspec": {
   "display_name": "Python 3",
   "language": "python",
   "name": "python3"
  },
  "language_info": {
   "codemirror_mode": {
    "name": "ipython",
    "version": 3
   },
   "file_extension": ".py",
   "mimetype": "text/x-python",
   "name": "python",
   "nbconvert_exporter": "python",
   "pygments_lexer": "ipython3",
   "version": "3.10.10"
  },
  "papermill": {
   "default_parameters": {},
   "duration": 11.550357,
   "end_time": "2023-06-23T13:26:11.556999",
   "environment_variables": {},
   "exception": null,
   "input_path": "__notebook__.ipynb",
   "output_path": "__notebook__.ipynb",
   "parameters": {},
   "start_time": "2023-06-23T13:26:00.006642",
   "version": "2.4.0"
  }
 },
 "nbformat": 4,
 "nbformat_minor": 5
}
