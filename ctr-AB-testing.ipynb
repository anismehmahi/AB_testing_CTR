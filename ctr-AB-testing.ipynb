{
 "cells": [
  {
   "cell_type": "code",
   "execution_count": 1,
   "id": "86f02479",
   "metadata": {
    "execution": {
     "iopub.execute_input": "2023-06-23T13:43:53.495610Z",
     "iopub.status.busy": "2023-06-23T13:43:53.494948Z",
     "iopub.status.idle": "2023-06-23T13:43:54.945069Z",
     "shell.execute_reply": "2023-06-23T13:43:54.943886Z"
    },
    "papermill": {
     "duration": 1.460199,
     "end_time": "2023-06-23T13:43:54.948083",
     "exception": false,
     "start_time": "2023-06-23T13:43:53.487884",
     "status": "completed"
    },
    "tags": []
   },
   "outputs": [],
   "source": [
    "import pandas as pd \n",
    "from statsmodels.stats.weightstats import ztest\n",
    "import numpy as np\n"
   ]
  },
  {
   "cell_type": "code",
   "execution_count": 2,
   "id": "1711a4f1",
   "metadata": {
    "execution": {
     "iopub.execute_input": "2023-06-23T13:43:54.960073Z",
     "iopub.status.busy": "2023-06-23T13:43:54.959687Z",
     "iopub.status.idle": "2023-06-23T13:43:54.983284Z",
     "shell.execute_reply": "2023-06-23T13:43:54.982056Z"
    },
    "papermill": {
     "duration": 0.033101,
     "end_time": "2023-06-23T13:43:54.986130",
     "exception": false,
     "start_time": "2023-06-23T13:43:54.953029",
     "status": "completed"
    },
    "tags": []
   },
   "outputs": [],
   "source": [
    "data = pd.read_csv(\"/kaggle/input/ads-clicks/advertisement_clicks.csv\")"
   ]
  },
  {
   "cell_type": "code",
   "execution_count": 3,
   "id": "95367149",
   "metadata": {
    "execution": {
     "iopub.execute_input": "2023-06-23T13:43:54.998083Z",
     "iopub.status.busy": "2023-06-23T13:43:54.996968Z",
     "iopub.status.idle": "2023-06-23T13:43:55.033306Z",
     "shell.execute_reply": "2023-06-23T13:43:55.031985Z"
    },
    "papermill": {
     "duration": 0.045015,
     "end_time": "2023-06-23T13:43:55.035894",
     "exception": false,
     "start_time": "2023-06-23T13:43:54.990879",
     "status": "completed"
    },
    "tags": []
   },
   "outputs": [
    {
     "data": {
      "text/html": [
       "<div>\n",
       "<style scoped>\n",
       "    .dataframe tbody tr th:only-of-type {\n",
       "        vertical-align: middle;\n",
       "    }\n",
       "\n",
       "    .dataframe tbody tr th {\n",
       "        vertical-align: top;\n",
       "    }\n",
       "\n",
       "    .dataframe thead th {\n",
       "        text-align: right;\n",
       "    }\n",
       "</style>\n",
       "<table border=\"1\" class=\"dataframe\">\n",
       "  <thead>\n",
       "    <tr style=\"text-align: right;\">\n",
       "      <th></th>\n",
       "      <th>advertisement_id</th>\n",
       "      <th>action</th>\n",
       "    </tr>\n",
       "  </thead>\n",
       "  <tbody>\n",
       "    <tr>\n",
       "      <th>0</th>\n",
       "      <td>B</td>\n",
       "      <td>1</td>\n",
       "    </tr>\n",
       "    <tr>\n",
       "      <th>1</th>\n",
       "      <td>B</td>\n",
       "      <td>1</td>\n",
       "    </tr>\n",
       "    <tr>\n",
       "      <th>2</th>\n",
       "      <td>A</td>\n",
       "      <td>0</td>\n",
       "    </tr>\n",
       "    <tr>\n",
       "      <th>3</th>\n",
       "      <td>B</td>\n",
       "      <td>0</td>\n",
       "    </tr>\n",
       "    <tr>\n",
       "      <th>4</th>\n",
       "      <td>A</td>\n",
       "      <td>1</td>\n",
       "    </tr>\n",
       "    <tr>\n",
       "      <th>...</th>\n",
       "      <td>...</td>\n",
       "      <td>...</td>\n",
       "    </tr>\n",
       "    <tr>\n",
       "      <th>1995</th>\n",
       "      <td>A</td>\n",
       "      <td>0</td>\n",
       "    </tr>\n",
       "    <tr>\n",
       "      <th>1996</th>\n",
       "      <td>A</td>\n",
       "      <td>0</td>\n",
       "    </tr>\n",
       "    <tr>\n",
       "      <th>1997</th>\n",
       "      <td>A</td>\n",
       "      <td>0</td>\n",
       "    </tr>\n",
       "    <tr>\n",
       "      <th>1998</th>\n",
       "      <td>A</td>\n",
       "      <td>1</td>\n",
       "    </tr>\n",
       "    <tr>\n",
       "      <th>1999</th>\n",
       "      <td>A</td>\n",
       "      <td>0</td>\n",
       "    </tr>\n",
       "  </tbody>\n",
       "</table>\n",
       "<p>2000 rows × 2 columns</p>\n",
       "</div>"
      ],
      "text/plain": [
       "     advertisement_id  action\n",
       "0                   B       1\n",
       "1                   B       1\n",
       "2                   A       0\n",
       "3                   B       0\n",
       "4                   A       1\n",
       "...               ...     ...\n",
       "1995                A       0\n",
       "1996                A       0\n",
       "1997                A       0\n",
       "1998                A       1\n",
       "1999                A       0\n",
       "\n",
       "[2000 rows x 2 columns]"
      ]
     },
     "execution_count": 3,
     "metadata": {},
     "output_type": "execute_result"
    }
   ],
   "source": [
    "data"
   ]
  },
  {
   "cell_type": "code",
   "execution_count": 4,
   "id": "177d8743",
   "metadata": {
    "execution": {
     "iopub.execute_input": "2023-06-23T13:43:55.047634Z",
     "iopub.status.busy": "2023-06-23T13:43:55.047242Z",
     "iopub.status.idle": "2023-06-23T13:43:55.066258Z",
     "shell.execute_reply": "2023-06-23T13:43:55.064937Z"
    },
    "papermill": {
     "duration": 0.028036,
     "end_time": "2023-06-23T13:43:55.068966",
     "exception": false,
     "start_time": "2023-06-23T13:43:55.040930",
     "status": "completed"
    },
    "tags": []
   },
   "outputs": [
    {
     "data": {
      "text/plain": [
       "(1000, 1000)"
      ]
     },
     "execution_count": 4,
     "metadata": {},
     "output_type": "execute_result"
    }
   ],
   "source": [
    "A = data[data[\"advertisement_id\"]=='A']['action'].to_numpy()\n",
    "B = data[data[\"advertisement_id\"]=='B']['action'].to_numpy()\n",
    "len(A), len(B)"
   ]
  },
  {
   "cell_type": "code",
   "execution_count": 5,
   "id": "25dfb562",
   "metadata": {
    "execution": {
     "iopub.execute_input": "2023-06-23T13:43:55.081096Z",
     "iopub.status.busy": "2023-06-23T13:43:55.080698Z",
     "iopub.status.idle": "2023-06-23T13:43:55.088701Z",
     "shell.execute_reply": "2023-06-23T13:43:55.087429Z"
    },
    "papermill": {
     "duration": 0.017016,
     "end_time": "2023-06-23T13:43:55.091280",
     "exception": false,
     "start_time": "2023-06-23T13:43:55.074264",
     "status": "completed"
    },
    "tags": []
   },
   "outputs": [],
   "source": [
    "# Two-sample & 2-sided test \n",
    "# H0 (muA==muB) H1(muA!=muB)\n",
    "z1,p1 = ztest(A,B)"
   ]
  },
  {
   "cell_type": "code",
   "execution_count": 6,
   "id": "81b14eaa",
   "metadata": {
    "execution": {
     "iopub.execute_input": "2023-06-23T13:43:55.103803Z",
     "iopub.status.busy": "2023-06-23T13:43:55.103409Z",
     "iopub.status.idle": "2023-06-23T13:43:55.110323Z",
     "shell.execute_reply": "2023-06-23T13:43:55.109066Z"
    },
    "papermill": {
     "duration": 0.016085,
     "end_time": "2023-06-23T13:43:55.112870",
     "exception": false,
     "start_time": "2023-06-23T13:43:55.096785",
     "status": "completed"
    },
    "tags": []
   },
   "outputs": [
    {
     "data": {
      "text/plain": [
       "True"
      ]
     },
     "execution_count": 6,
     "metadata": {},
     "output_type": "execute_result"
    }
   ],
   "source": [
    "p1<0.05"
   ]
  },
  {
   "cell_type": "markdown",
   "id": "ceecc8c7",
   "metadata": {
    "papermill": {
     "duration": 0.004915,
     "end_time": "2023-06-23T13:43:55.123307",
     "exception": false,
     "start_time": "2023-06-23T13:43:55.118392",
     "status": "completed"
    },
    "tags": []
   },
   "source": [
    "### Because p<5% than we reject H0 (mu_A == mu_B) and we Accept H1 (strategy A is different than B). The question now is which one is better ?"
   ]
  },
  {
   "cell_type": "code",
   "execution_count": 7,
   "id": "b8b82a5a",
   "metadata": {
    "execution": {
     "iopub.execute_input": "2023-06-23T13:43:55.137090Z",
     "iopub.status.busy": "2023-06-23T13:43:55.136705Z",
     "iopub.status.idle": "2023-06-23T13:43:55.144606Z",
     "shell.execute_reply": "2023-06-23T13:43:55.143337Z"
    },
    "papermill": {
     "duration": 0.018537,
     "end_time": "2023-06-23T13:43:55.147058",
     "exception": false,
     "start_time": "2023-06-23T13:43:55.128521",
     "status": "completed"
    },
    "tags": []
   },
   "outputs": [
    {
     "data": {
      "text/plain": [
       "(0.304, 0.372)"
      ]
     },
     "execution_count": 7,
     "metadata": {},
     "output_type": "execute_result"
    }
   ],
   "source": [
    "A.mean() , B.mean()"
   ]
  },
  {
   "cell_type": "code",
   "execution_count": 8,
   "id": "1c4b1b3c",
   "metadata": {
    "execution": {
     "iopub.execute_input": "2023-06-23T13:43:55.159486Z",
     "iopub.status.busy": "2023-06-23T13:43:55.159055Z",
     "iopub.status.idle": "2023-06-23T13:43:55.167546Z",
     "shell.execute_reply": "2023-06-23T13:43:55.166677Z"
    },
    "papermill": {
     "duration": 0.017179,
     "end_time": "2023-06-23T13:43:55.169649",
     "exception": false,
     "start_time": "2023-06-23T13:43:55.152470",
     "status": "completed"
    },
    "tags": []
   },
   "outputs": [
    {
     "data": {
      "text/plain": [
       "(-3.2211732138019786, 0.0006383348150764772)"
      ]
     },
     "execution_count": 8,
     "metadata": {},
     "output_type": "execute_result"
    }
   ],
   "source": [
    "# H0 : muA >= muB\n",
    "# H1 : muA < muB\n",
    "z2,p2 = ztest(A,B,alternative = \"smaller\", )\n",
    "z2, p2"
   ]
  },
  {
   "cell_type": "code",
   "execution_count": 9,
   "id": "e13b2df1",
   "metadata": {
    "execution": {
     "iopub.execute_input": "2023-06-23T13:43:55.183806Z",
     "iopub.status.busy": "2023-06-23T13:43:55.182811Z",
     "iopub.status.idle": "2023-06-23T13:43:55.190140Z",
     "shell.execute_reply": "2023-06-23T13:43:55.188780Z"
    },
    "papermill": {
     "duration": 0.016899,
     "end_time": "2023-06-23T13:43:55.192567",
     "exception": false,
     "start_time": "2023-06-23T13:43:55.175668",
     "status": "completed"
    },
    "tags": []
   },
   "outputs": [
    {
     "data": {
      "text/plain": [
       "True"
      ]
     },
     "execution_count": 9,
     "metadata": {},
     "output_type": "execute_result"
    }
   ],
   "source": [
    "p2<0.05"
   ]
  },
  {
   "cell_type": "markdown",
   "id": "cfcb960b",
   "metadata": {
    "papermill": {
     "duration": 0.005343,
     "end_time": "2023-06-23T13:43:55.203739",
     "exception": false,
     "start_time": "2023-06-23T13:43:55.198396",
     "status": "completed"
    },
    "tags": []
   },
   "source": [
    "### Because p2<5% than we reject H0 (mu_A > mu_B) and we Accept H1 (muA <= muB) which means (strategy B is better than A). "
   ]
  },
  {
   "cell_type": "code",
   "execution_count": null,
   "id": "27f42d09",
   "metadata": {
    "papermill": {
     "duration": 0.005847,
     "end_time": "2023-06-23T13:43:55.215193",
     "exception": false,
     "start_time": "2023-06-23T13:43:55.209346",
     "status": "completed"
    },
    "tags": []
   },
   "outputs": [],
   "source": []
  },
  {
   "cell_type": "code",
   "execution_count": null,
   "id": "e2e66900",
   "metadata": {
    "papermill": {
     "duration": 0.005301,
     "end_time": "2023-06-23T13:43:55.226236",
     "exception": false,
     "start_time": "2023-06-23T13:43:55.220935",
     "status": "completed"
    },
    "tags": []
   },
   "outputs": [],
   "source": []
  }
 ],
 "metadata": {
  "kernelspec": {
   "display_name": "Python 3",
   "language": "python",
   "name": "python3"
  },
  "language_info": {
   "codemirror_mode": {
    "name": "ipython",
    "version": 3
   },
   "file_extension": ".py",
   "mimetype": "text/x-python",
   "name": "python",
   "nbconvert_exporter": "python",
   "pygments_lexer": "ipython3",
   "version": "3.10.10"
  },
  "papermill": {
   "default_parameters": {},
   "duration": 15.981925,
   "end_time": "2023-06-23T13:43:56.156927",
   "environment_variables": {},
   "exception": null,
   "input_path": "__notebook__.ipynb",
   "output_path": "__notebook__.ipynb",
   "parameters": {},
   "start_time": "2023-06-23T13:43:40.175002",
   "version": "2.4.0"
  }
 },
 "nbformat": 4,
 "nbformat_minor": 5
}
