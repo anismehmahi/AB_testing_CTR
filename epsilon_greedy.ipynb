{
 "cells": [
  {
   "cell_type": "code",
   "execution_count": 1,
   "id": "f4202f34",
   "metadata": {
    "execution": {
     "iopub.execute_input": "2023-06-24T14:27:11.703678Z",
     "iopub.status.busy": "2023-06-24T14:27:11.703292Z",
     "iopub.status.idle": "2023-06-24T14:27:13.224452Z",
     "shell.execute_reply": "2023-06-24T14:27:13.223435Z"
    },
    "papermill": {
     "duration": 1.528039,
     "end_time": "2023-06-24T14:27:13.227070",
     "exception": false,
     "start_time": "2023-06-24T14:27:11.699031",
     "status": "completed"
    },
    "tags": []
   },
   "outputs": [],
   "source": [
    "import matplotlib.pyplot as plt\n",
    "import numpy as np\n",
    "import seaborn as sns\n",
    "from scipy.stats import bernoulli"
   ]
  },
  {
   "cell_type": "markdown",
   "id": "878d4972",
   "metadata": {
    "papermill": {
     "duration": 0.002115,
     "end_time": "2023-06-24T14:27:13.232050",
     "exception": false,
     "start_time": "2023-06-24T14:27:13.229935",
     "status": "completed"
    },
    "tags": []
   },
   "source": [
    "# Epsilon greedy"
   ]
  },
  {
   "cell_type": "code",
   "execution_count": 2,
   "id": "f4f087c4",
   "metadata": {
    "execution": {
     "iopub.execute_input": "2023-06-24T14:27:13.238496Z",
     "iopub.status.busy": "2023-06-24T14:27:13.237738Z",
     "iopub.status.idle": "2023-06-24T14:27:13.244751Z",
     "shell.execute_reply": "2023-06-24T14:27:13.243674Z"
    },
    "papermill": {
     "duration": 0.012672,
     "end_time": "2023-06-24T14:27:13.246936",
     "exception": false,
     "start_time": "2023-06-24T14:27:13.234264",
     "status": "completed"
    },
    "tags": []
   },
   "outputs": [],
   "source": [
    "class RestaurantThompsonSampler():\n",
    "    def __init__(self, p):\n",
    "        self.p = p\n",
    "        self.estimated_p = 0\n",
    "        self.N = 0\n",
    "        \n",
    "    def ucb(self,mean, n, nj):\n",
    "        return mean + np.sqrt(2*np.log(n) / nj)\n",
    "    \n",
    "    def get_reward_from_true_distribution(self):\n",
    "        s = bernoulli.rvs(self.p, size=1)[0]\n",
    "        return s\n",
    "    \n",
    "    def update_current_distribution(self,x):\n",
    "        self.N += 1.\n",
    "        self.estimated_p = ((self.N - 1)*self.estimated_p + x) / self.N\n"
   ]
  },
  {
   "cell_type": "code",
   "execution_count": 3,
   "id": "2e48fb23",
   "metadata": {
    "execution": {
     "iopub.execute_input": "2023-06-24T14:27:13.252984Z",
     "iopub.status.busy": "2023-06-24T14:27:13.252650Z",
     "iopub.status.idle": "2023-06-24T14:27:13.258706Z",
     "shell.execute_reply": "2023-06-24T14:27:13.257628Z"
    },
    "papermill": {
     "duration": 0.011598,
     "end_time": "2023-06-24T14:27:13.260820",
     "exception": false,
     "start_time": "2023-06-24T14:27:13.249222",
     "status": "completed"
    },
    "tags": []
   },
   "outputs": [],
   "source": [
    "def draw_distributions(R,i):\n",
    "    for r in R:\n",
    "        samps = bernoulli.rvs(r.estimated_p, size=100)\n",
    "        sns.kdeplot(samps, fill=True)\n",
    "    plt.title('Iteration %s'%(i+1), fontsize=20)\n",
    "    plt.legend(['mu=%s'%(r.p) for r in R], fontsize=16)\n",
    "    plt.xlim(-3,3)\n",
    "    plt.xlabel('Average Satisfacton', fontsize=20)\n",
    "    plt.ylabel('Density', fontsize=20)\n",
    "    \n",
    "    plt.show()"
   ]
  },
  {
   "cell_type": "code",
   "execution_count": 4,
   "id": "a71dca40",
   "metadata": {
    "execution": {
     "iopub.execute_input": "2023-06-24T14:27:13.267094Z",
     "iopub.status.busy": "2023-06-24T14:27:13.266726Z",
     "iopub.status.idle": "2023-06-24T14:27:13.339782Z",
     "shell.execute_reply": "2023-06-24T14:27:13.338696Z"
    },
    "papermill": {
     "duration": 0.07904,
     "end_time": "2023-06-24T14:27:13.342162",
     "exception": false,
     "start_time": "2023-06-24T14:27:13.263122",
     "status": "completed"
    },
    "tags": []
   },
   "outputs": [
    {
     "name": "stdout",
     "output_type": "stream",
     "text": [
      "Real P =  0.2 Estimated P =  0.30303030303030304\n",
      "Real P =  0.4 Estimated P =  0.3939393939393939\n",
      "Real P =  0.6000000000000001 Estimated P =  0.6749999999999999\n",
      "Real P =  0.8 Estimated P =  0.7810304449648713\n"
     ]
    }
   ],
   "source": [
    "num_restaurants = 4\n",
    "EPS = 0.1\n",
    "spacing = 1\n",
    "R = [RestaurantThompsonSampler(i*0.2) for i in range(1, num_restaurants+1)]\n",
    "\n",
    "\n",
    "for i in range(1000):    \n",
    "    # Ex\n",
    "    if np.random.random() < EPS:\n",
    "        chosen_idx = np.random.randint(len(R))\n",
    "    else:\n",
    "        post_samps = [r.estimated_p for r in R]\n",
    "        chosen_idx = post_samps.index(max(post_samps))\n",
    "\n",
    "    \n",
    "    #get a new sample from that distribution\n",
    "    s = R[chosen_idx].get_reward_from_true_distribution()\n",
    "    \n",
    "    #update that distributions posterior\n",
    "    R[chosen_idx].update_current_distribution(s)\n",
    "    \n",
    "    \n",
    "for r in R :\n",
    "    print('Real P = ', r.p, 'Estimated P = ',r.estimated_p)"
   ]
  },
  {
   "cell_type": "code",
   "execution_count": null,
   "id": "f949f19c",
   "metadata": {
    "papermill": {
     "duration": 0.002124,
     "end_time": "2023-06-24T14:27:13.346761",
     "exception": false,
     "start_time": "2023-06-24T14:27:13.344637",
     "status": "completed"
    },
    "tags": []
   },
   "outputs": [],
   "source": []
  }
 ],
 "metadata": {
  "kernelspec": {
   "display_name": "Python 3",
   "language": "python",
   "name": "python3"
  },
  "language_info": {
   "codemirror_mode": {
    "name": "ipython",
    "version": 3
   },
   "file_extension": ".py",
   "mimetype": "text/x-python",
   "name": "python",
   "nbconvert_exporter": "python",
   "pygments_lexer": "ipython3",
   "version": "3.10.10"
  },
  "papermill": {
   "default_parameters": {},
   "duration": 13.536709,
   "end_time": "2023-06-24T14:27:14.271798",
   "environment_variables": {},
   "exception": null,
   "input_path": "__notebook__.ipynb",
   "output_path": "__notebook__.ipynb",
   "parameters": {},
   "start_time": "2023-06-24T14:27:00.735089",
   "version": "2.4.0"
  }
 },
 "nbformat": 4,
 "nbformat_minor": 5
}
